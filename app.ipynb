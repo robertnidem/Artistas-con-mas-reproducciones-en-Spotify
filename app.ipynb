{
  "nbformat": 4,
  "nbformat_minor": 0,
  "metadata": {
    "colab": {
      "provenance": []
    },
    "kernelspec": {
      "name": "python3",
      "display_name": "Python 3"
    },
    "language_info": {
      "name": "python"
    }
  },
  "cells": [
    {
      "cell_type": "code",
      "source": [
        "!pip install jupyter-dash\n",
        "!pip install geopandas\n",
        "!pip install plotly\n",
        "!pip install wget"
      ],
      "metadata": {
        "colab": {
          "base_uri": "https://localhost:8080/"
        },
        "id": "vQhEDYO1rJN1",
        "outputId": "f74dac70-5614-4629-ff6e-0d04ffdd2bc6"
      },
      "execution_count": null,
      "outputs": [
        {
          "output_type": "stream",
          "name": "stdout",
          "text": [
            "Looking in indexes: https://pypi.org/simple, https://us-python.pkg.dev/colab-wheels/public/simple/\n",
            "Requirement already satisfied: jupyter-dash in /usr/local/lib/python3.7/dist-packages (0.4.2)\n",
            "Requirement already satisfied: ipykernel in /usr/local/lib/python3.7/dist-packages (from jupyter-dash) (5.3.4)\n",
            "Requirement already satisfied: ipython in /usr/local/lib/python3.7/dist-packages (from jupyter-dash) (7.9.0)\n",
            "Requirement already satisfied: dash in /usr/local/lib/python3.7/dist-packages (from jupyter-dash) (1.19.0)\n",
            "Requirement already satisfied: nest-asyncio in /usr/local/lib/python3.7/dist-packages (from jupyter-dash) (1.5.6)\n",
            "Requirement already satisfied: flask in /usr/local/lib/python3.7/dist-packages (from jupyter-dash) (1.1.4)\n",
            "Requirement already satisfied: retrying in /usr/local/lib/python3.7/dist-packages (from jupyter-dash) (1.3.3)\n",
            "Requirement already satisfied: requests in /usr/local/lib/python3.7/dist-packages (from jupyter-dash) (2.23.0)\n",
            "Requirement already satisfied: ansi2html in /usr/local/lib/python3.7/dist-packages (from jupyter-dash) (1.8.0)\n",
            "Requirement already satisfied: importlib-metadata in /usr/local/lib/python3.7/dist-packages (from ansi2html->jupyter-dash) (4.13.0)\n",
            "Requirement already satisfied: dash-html-components==1.1.2 in /usr/local/lib/python3.7/dist-packages (from dash->jupyter-dash) (1.1.2)\n",
            "Requirement already satisfied: dash-core-components==1.15.0 in /usr/local/lib/python3.7/dist-packages (from dash->jupyter-dash) (1.15.0)\n",
            "Requirement already satisfied: dash-table==4.11.2 in /usr/local/lib/python3.7/dist-packages (from dash->jupyter-dash) (4.11.2)\n",
            "Requirement already satisfied: plotly in /usr/local/lib/python3.7/dist-packages (from dash->jupyter-dash) (5.5.0)\n",
            "Requirement already satisfied: future in /usr/local/lib/python3.7/dist-packages (from dash->jupyter-dash) (0.16.0)\n",
            "Requirement already satisfied: dash-renderer==1.9.0 in /usr/local/lib/python3.7/dist-packages (from dash->jupyter-dash) (1.9.0)\n",
            "Requirement already satisfied: flask-compress in /usr/local/lib/python3.7/dist-packages (from dash->jupyter-dash) (1.13)\n",
            "Requirement already satisfied: click<8.0,>=5.1 in /usr/local/lib/python3.7/dist-packages (from flask->jupyter-dash) (7.1.2)\n",
            "Requirement already satisfied: Jinja2<3.0,>=2.10.1 in /usr/local/lib/python3.7/dist-packages (from flask->jupyter-dash) (2.11.3)\n",
            "Requirement already satisfied: Werkzeug<2.0,>=0.15 in /usr/local/lib/python3.7/dist-packages (from flask->jupyter-dash) (1.0.1)\n",
            "Requirement already satisfied: itsdangerous<2.0,>=0.24 in /usr/local/lib/python3.7/dist-packages (from flask->jupyter-dash) (1.1.0)\n",
            "Requirement already satisfied: MarkupSafe>=0.23 in /usr/local/lib/python3.7/dist-packages (from Jinja2<3.0,>=2.10.1->flask->jupyter-dash) (2.0.1)\n",
            "Requirement already satisfied: brotli in /usr/local/lib/python3.7/dist-packages (from flask-compress->dash->jupyter-dash) (1.0.9)\n",
            "Requirement already satisfied: zipp>=0.5 in /usr/local/lib/python3.7/dist-packages (from importlib-metadata->ansi2html->jupyter-dash) (3.10.0)\n",
            "Requirement already satisfied: typing-extensions>=3.6.4 in /usr/local/lib/python3.7/dist-packages (from importlib-metadata->ansi2html->jupyter-dash) (4.1.1)\n",
            "Requirement already satisfied: jupyter-client in /usr/local/lib/python3.7/dist-packages (from ipykernel->jupyter-dash) (6.1.12)\n",
            "Requirement already satisfied: traitlets>=4.1.0 in /usr/local/lib/python3.7/dist-packages (from ipykernel->jupyter-dash) (5.1.1)\n",
            "Requirement already satisfied: tornado>=4.2 in /usr/local/lib/python3.7/dist-packages (from ipykernel->jupyter-dash) (6.0.4)\n",
            "Requirement already satisfied: pickleshare in /usr/local/lib/python3.7/dist-packages (from ipython->jupyter-dash) (0.7.5)\n",
            "Requirement already satisfied: setuptools>=18.5 in /usr/local/lib/python3.7/dist-packages (from ipython->jupyter-dash) (57.4.0)\n",
            "Requirement already satisfied: jedi>=0.10 in /usr/local/lib/python3.7/dist-packages (from ipython->jupyter-dash) (0.18.1)\n",
            "Requirement already satisfied: backcall in /usr/local/lib/python3.7/dist-packages (from ipython->jupyter-dash) (0.2.0)\n",
            "Requirement already satisfied: pexpect in /usr/local/lib/python3.7/dist-packages (from ipython->jupyter-dash) (4.8.0)\n",
            "Requirement already satisfied: decorator in /usr/local/lib/python3.7/dist-packages (from ipython->jupyter-dash) (4.4.2)\n",
            "Requirement already satisfied: prompt-toolkit<2.1.0,>=2.0.0 in /usr/local/lib/python3.7/dist-packages (from ipython->jupyter-dash) (2.0.10)\n",
            "Requirement already satisfied: pygments in /usr/local/lib/python3.7/dist-packages (from ipython->jupyter-dash) (2.6.1)\n",
            "Requirement already satisfied: parso<0.9.0,>=0.8.0 in /usr/local/lib/python3.7/dist-packages (from jedi>=0.10->ipython->jupyter-dash) (0.8.3)\n",
            "Requirement already satisfied: six>=1.9.0 in /usr/local/lib/python3.7/dist-packages (from prompt-toolkit<2.1.0,>=2.0.0->ipython->jupyter-dash) (1.15.0)\n",
            "Requirement already satisfied: wcwidth in /usr/local/lib/python3.7/dist-packages (from prompt-toolkit<2.1.0,>=2.0.0->ipython->jupyter-dash) (0.2.5)\n",
            "Requirement already satisfied: jupyter-core>=4.6.0 in /usr/local/lib/python3.7/dist-packages (from jupyter-client->ipykernel->jupyter-dash) (4.11.2)\n",
            "Requirement already satisfied: python-dateutil>=2.1 in /usr/local/lib/python3.7/dist-packages (from jupyter-client->ipykernel->jupyter-dash) (2.8.2)\n",
            "Requirement already satisfied: pyzmq>=13 in /usr/local/lib/python3.7/dist-packages (from jupyter-client->ipykernel->jupyter-dash) (23.2.1)\n",
            "Requirement already satisfied: ptyprocess>=0.5 in /usr/local/lib/python3.7/dist-packages (from pexpect->ipython->jupyter-dash) (0.7.0)\n",
            "Requirement already satisfied: tenacity>=6.2.0 in /usr/local/lib/python3.7/dist-packages (from plotly->dash->jupyter-dash) (8.1.0)\n",
            "Requirement already satisfied: chardet<4,>=3.0.2 in /usr/local/lib/python3.7/dist-packages (from requests->jupyter-dash) (3.0.4)\n",
            "Requirement already satisfied: idna<3,>=2.5 in /usr/local/lib/python3.7/dist-packages (from requests->jupyter-dash) (2.10)\n",
            "Requirement already satisfied: certifi>=2017.4.17 in /usr/local/lib/python3.7/dist-packages (from requests->jupyter-dash) (2022.9.24)\n",
            "Requirement already satisfied: urllib3!=1.25.0,!=1.25.1,<1.26,>=1.21.1 in /usr/local/lib/python3.7/dist-packages (from requests->jupyter-dash) (1.24.3)\n",
            "Looking in indexes: https://pypi.org/simple, https://us-python.pkg.dev/colab-wheels/public/simple/\n",
            "Requirement already satisfied: geopandas in /usr/local/lib/python3.7/dist-packages (0.10.2)\n",
            "Requirement already satisfied: pyproj>=2.2.0 in /usr/local/lib/python3.7/dist-packages (from geopandas) (3.2.1)\n",
            "Requirement already satisfied: fiona>=1.8 in /usr/local/lib/python3.7/dist-packages (from geopandas) (1.8.22)\n",
            "Requirement already satisfied: pandas>=0.25.0 in /usr/local/lib/python3.7/dist-packages (from geopandas) (1.3.5)\n",
            "Requirement already satisfied: shapely>=1.6 in /usr/local/lib/python3.7/dist-packages (from geopandas) (1.8.5.post1)\n",
            "Requirement already satisfied: six>=1.7 in /usr/local/lib/python3.7/dist-packages (from fiona>=1.8->geopandas) (1.15.0)\n",
            "Requirement already satisfied: attrs>=17 in /usr/local/lib/python3.7/dist-packages (from fiona>=1.8->geopandas) (22.1.0)\n",
            "Requirement already satisfied: munch in /usr/local/lib/python3.7/dist-packages (from fiona>=1.8->geopandas) (2.5.0)\n",
            "Requirement already satisfied: certifi in /usr/local/lib/python3.7/dist-packages (from fiona>=1.8->geopandas) (2022.9.24)\n",
            "Requirement already satisfied: click>=4.0 in /usr/local/lib/python3.7/dist-packages (from fiona>=1.8->geopandas) (7.1.2)\n",
            "Requirement already satisfied: setuptools in /usr/local/lib/python3.7/dist-packages (from fiona>=1.8->geopandas) (57.4.0)\n",
            "Requirement already satisfied: click-plugins>=1.0 in /usr/local/lib/python3.7/dist-packages (from fiona>=1.8->geopandas) (1.1.1)\n",
            "Requirement already satisfied: cligj>=0.5 in /usr/local/lib/python3.7/dist-packages (from fiona>=1.8->geopandas) (0.7.2)\n",
            "Requirement already satisfied: pytz>=2017.3 in /usr/local/lib/python3.7/dist-packages (from pandas>=0.25.0->geopandas) (2022.6)\n",
            "Requirement already satisfied: python-dateutil>=2.7.3 in /usr/local/lib/python3.7/dist-packages (from pandas>=0.25.0->geopandas) (2.8.2)\n",
            "Requirement already satisfied: numpy>=1.17.3 in /usr/local/lib/python3.7/dist-packages (from pandas>=0.25.0->geopandas) (1.21.6)\n",
            "Looking in indexes: https://pypi.org/simple, https://us-python.pkg.dev/colab-wheels/public/simple/\n",
            "Requirement already satisfied: plotly in /usr/local/lib/python3.7/dist-packages (5.5.0)\n",
            "Requirement already satisfied: six in /usr/local/lib/python3.7/dist-packages (from plotly) (1.15.0)\n",
            "Requirement already satisfied: tenacity>=6.2.0 in /usr/local/lib/python3.7/dist-packages (from plotly) (8.1.0)\n",
            "Looking in indexes: https://pypi.org/simple, https://us-python.pkg.dev/colab-wheels/public/simple/\n",
            "Requirement already satisfied: wget in /usr/local/lib/python3.7/dist-packages (3.2)\n"
          ]
        }
      ]
    },
    {
      "cell_type": "code",
      "source": [
        "!pip install dash==1.19.0"
      ],
      "metadata": {
        "colab": {
          "base_uri": "https://localhost:8080/"
        },
        "id": "QvNL3XBsrMZD",
        "outputId": "9162737b-024b-4251-e185-719f73f9855f"
      },
      "execution_count": null,
      "outputs": [
        {
          "output_type": "stream",
          "name": "stdout",
          "text": [
            "Looking in indexes: https://pypi.org/simple, https://us-python.pkg.dev/colab-wheels/public/simple/\n",
            "Requirement already satisfied: dash==1.19.0 in /usr/local/lib/python3.7/dist-packages (1.19.0)\n",
            "Requirement already satisfied: dash-html-components==1.1.2 in /usr/local/lib/python3.7/dist-packages (from dash==1.19.0) (1.1.2)\n",
            "Requirement already satisfied: Flask>=1.0.4 in /usr/local/lib/python3.7/dist-packages (from dash==1.19.0) (1.1.4)\n",
            "Requirement already satisfied: flask-compress in /usr/local/lib/python3.7/dist-packages (from dash==1.19.0) (1.13)\n",
            "Requirement already satisfied: plotly in /usr/local/lib/python3.7/dist-packages (from dash==1.19.0) (5.5.0)\n",
            "Requirement already satisfied: dash-table==4.11.2 in /usr/local/lib/python3.7/dist-packages (from dash==1.19.0) (4.11.2)\n",
            "Requirement already satisfied: dash-renderer==1.9.0 in /usr/local/lib/python3.7/dist-packages (from dash==1.19.0) (1.9.0)\n",
            "Requirement already satisfied: future in /usr/local/lib/python3.7/dist-packages (from dash==1.19.0) (0.16.0)\n",
            "Requirement already satisfied: dash-core-components==1.15.0 in /usr/local/lib/python3.7/dist-packages (from dash==1.19.0) (1.15.0)\n",
            "Requirement already satisfied: Werkzeug<2.0,>=0.15 in /usr/local/lib/python3.7/dist-packages (from Flask>=1.0.4->dash==1.19.0) (1.0.1)\n",
            "Requirement already satisfied: itsdangerous<2.0,>=0.24 in /usr/local/lib/python3.7/dist-packages (from Flask>=1.0.4->dash==1.19.0) (1.1.0)\n",
            "Requirement already satisfied: click<8.0,>=5.1 in /usr/local/lib/python3.7/dist-packages (from Flask>=1.0.4->dash==1.19.0) (7.1.2)\n",
            "Requirement already satisfied: Jinja2<3.0,>=2.10.1 in /usr/local/lib/python3.7/dist-packages (from Flask>=1.0.4->dash==1.19.0) (2.11.3)\n",
            "Requirement already satisfied: MarkupSafe>=0.23 in /usr/local/lib/python3.7/dist-packages (from Jinja2<3.0,>=2.10.1->Flask>=1.0.4->dash==1.19.0) (2.0.1)\n",
            "Requirement already satisfied: brotli in /usr/local/lib/python3.7/dist-packages (from flask-compress->dash==1.19.0) (1.0.9)\n",
            "Requirement already satisfied: six in /usr/local/lib/python3.7/dist-packages (from plotly->dash==1.19.0) (1.15.0)\n",
            "Requirement already satisfied: tenacity>=6.2.0 in /usr/local/lib/python3.7/dist-packages (from plotly->dash==1.19.0) (8.1.0)\n"
          ]
        }
      ]
    },
    {
      "cell_type": "code",
      "source": [
        "!python --version"
      ],
      "metadata": {
        "id": "uECz3ZZXdL0A",
        "outputId": "246036ef-8deb-48c6-9f36-53ec9863ab41",
        "colab": {
          "base_uri": "https://localhost:8080/"
        }
      },
      "execution_count": null,
      "outputs": [
        {
          "output_type": "stream",
          "name": "stdout",
          "text": [
            "Python 3.7.15\n"
          ]
        }
      ]
    },
    {
      "cell_type": "code",
      "execution_count": null,
      "metadata": {
        "id": "Kazler7RplXe"
      },
      "outputs": [],
      "source": [
        "from jupyter_dash import JupyterDash # Versión de dash para notebooks\n",
        "import dash_core_components as dcc\n",
        "import dash_html_components as html\n",
        "from dash.dependencies import Input, Output # Clases Input y Output\n",
        "import plotly.express as px # Generar gráficas e importar datasets con Plotly\n",
        "\n",
        "import pandas as pd # Recolección y manipulación de datos\n",
        "import json"
      ]
    },
    {
      "cell_type": "code",
      "source": [
        "external_stylesheets = ['https://codepen.io/chriddyp/pen/bWLwgP.css']"
      ],
      "metadata": {
        "id": "PdBCr6dIrDF_"
      },
      "execution_count": null,
      "outputs": []
    },
    {
      "cell_type": "code",
      "source": [
        "df=pd.DataFrame({\n",
        "    \"nombre\":['art1','art2','art3','art4'],\n",
        "    \"año\":[2020,2021,2022,2020],\n",
        "    \"reproducciones\": [3,4,8,29],\n",
        "    \"otros\":['US','Mx','Es','Us']\n",
        "\n",
        "})"
      ],
      "metadata": {
        "id": "KuoAl1c2rc4_"
      },
      "execution_count": null,
      "outputs": []
    },
    {
      "cell_type": "code",
      "source": [
        "df=pd.read_csv('/content/drive/MyDrive/spotify/archive/data_filter.csv')\n",
        "df.drop(columns=['Unnamed: 0'],axis=1,inplace=True)\n",
        "df.info()"
      ],
      "metadata": {
        "colab": {
          "base_uri": "https://localhost:8080/"
        },
        "id": "RBPPqP5Bfkgj",
        "outputId": "2572d2e1-8a63-40b0-91e4-a0bb8812884a"
      },
      "execution_count": null,
      "outputs": [
        {
          "output_type": "stream",
          "name": "stdout",
          "text": [
            "<class 'pandas.core.frame.DataFrame'>\n",
            "RangeIndex: 65300 entries, 0 to 65299\n",
            "Data columns (total 3 columns):\n",
            " #   Column   Non-Null Count  Dtype  \n",
            "---  ------   --------------  -----  \n",
            " 0   artist   65300 non-null  object \n",
            " 1   año      65300 non-null  int64  \n",
            " 2   streams  65300 non-null  float64\n",
            "dtypes: float64(1), int64(1), object(1)\n",
            "memory usage: 1.5+ MB\n"
          ]
        }
      ]
    },
    {
      "cell_type": "code",
      "source": [
        "df2=pd.read_csv('/content/drive/MyDrive/spotify/archive/data_filter_2.csv')\n",
        "df2.drop(columns=['Unnamed: 0'],axis=1,inplace=True)\n",
        "df2['region'].unique()"
      ],
      "metadata": {
        "colab": {
          "base_uri": "https://localhost:8080/"
        },
        "id": "TaMmwhkl8IhY",
        "outputId": "d5166f48-9949-44a4-f964-1951f856b7c4"
      },
      "execution_count": null,
      "outputs": [
        {
          "output_type": "execute_result",
          "data": {
            "text/plain": [
              "array(['Global', 'USA', 'MEX', 'BRA', 'GBR', 'DEU', 'JPN', 'FRA', 'ITA',\n",
              "       'PHL', 'CHL', 'ESP', 'CAN', 'ARG', 'AUT', 'IND', 'SEN', 'TUR',\n",
              "       'NLD', 'POL', 'DNK', 'NOR', 'COL', 'PER', 'ROU', 'IRL', 'NZL',\n",
              "       'SGP', 'THA', 'FIN', 'MYS', 'ECU', 'GTM', 'TWN', 'VNM', 'MAR',\n",
              "       'PRY', 'BEL', 'DOM', 'CRI', 'SWE', 'HKG', 'PRT', 'SLV', 'AUS',\n",
              "       'CZE', 'HND', 'GRC', 'ISL', 'KOR', 'PAN', 'EGY', 'UKR', 'ZAF',\n",
              "       'BOL', 'SAU', 'HUN', 'UGA', 'NIC', 'LTU', 'ARE', 'SVK', 'LVA',\n",
              "       'BGR', 'EST', 'LUX'], dtype=object)"
            ]
          },
          "metadata": {},
          "execution_count": 172
        }
      ]
    },
    {
      "cell_type": "code",
      "source": [
        "app=JupyterDash(__name__,external_stylesheets=external_stylesheets)\n",
        "artistas=df['artist'].unique()\n",
        "\n",
        "\n",
        "filtered_df2 = df2[df2[\"año\"] == 2017]\n",
        "filtered_df2 = filtered_df2[filtered_df2['artist']==filtered_df2[\"artist\"][1]]\n",
        "filtered_df2 = filtered_df2[filtered_df2[\"region\"] != 'Global']\n",
        "\n",
        "fig2 = px.scatter_geo(filtered_df2, locations=\"region\",size=\"streams\",\n",
        "                     color=\"streams\",color_continuous_scale=[\"red\", \"green\", \"blue\"],\n",
        "                     projection=\"natural earth\",\n",
        "                     title='Distribución de reproducciones de {} el año {}'.format('Ed Sheeran' , 2017))\n",
        "\n",
        "\n",
        "filtered_df3=df2[df2['artist'] == 'Ed Sheeran']\n",
        "filtered_df3=filtered_df3.groupby(['año'])[['streams']].sum()\n",
        "filtered_df3.reset_index(inplace=True)\n",
        "fig3=px.scatter(filtered_df3,x=\"año\",y=\"streams\",color_continuous_scale=[\"red\", \"green\", \"blue\"],\n",
        "                size='streams',\n",
        "                title='Reproducciones totales de  {} a lo largo de los años'.format('Ed Sheeran'),\n",
        "                color='streams')\n",
        "\n",
        "fig3.update_traces(marker=dict(size=25))\n",
        "\n",
        "styles = {\n",
        "    'pre': {\n",
        "        'border': 'thin lightgrey solid',\n",
        "        'overflowX': 'scroll'\n",
        "    }\n",
        "}\n",
        "\n",
        "app.layout=html.Div([\n",
        "    html.Div([\n",
        "        html.Div([\n",
        "            html.H1(\"Artistas con más reproducciones en Spotify\"),\n",
        "        ], style={'text-align':'center'}),\n",
        "        \n",
        "        html.H4(\"Medina Ortiz Roberto Arturo\"),\n",
        "        html.Div([\n",
        "        html.A(\"Linkedin\", href='https://www.linkedin.com/in/robert-nidem/', target=\"_blank\"),\n",
        "        ], style={'background-color':'#A9F344','font-size': '2rem','width':'100px','text-align':'center'}),\n",
        "    ]),\n",
        "    html.Div([\n",
        "        dcc.RadioItems(\n",
        "            id='scale',\n",
        "            options=[{'label': i, 'value': i}for i in ['Linear','Log']],\n",
        "            value='Linear',\n",
        "            labelStyle={'display': 'inline-block', 'marginTop': '5px'}\n",
        "        )\n",
        "    ], style={'background-color':'#9CDE62','display':'inline-block'}),\n",
        "    html.Div([\n",
        "      html.Div([\n",
        "        dcc.Graph(id='graph-rep',\n",
        "                  hoverData={'points':[{'data':'artista'}]},\n",
        "                  responsive=True),\n",
        "        dcc.Slider(\n",
        "            id='slider-graph',\n",
        "            min=df['año'].min(),\n",
        "            max=df['año'].max(),\n",
        "            value=df['año'].min(),\n",
        "            marks={str(year): str(year) for year in df['año'].unique()},\n",
        "            step=None)\n",
        "      ],style={'width':'100%','display': 'inline-block', 'padding': '0 20'}),\n",
        "    \n",
        "      html.Div([\n",
        "        html.Div(id='display_value', style={'background-color':'#9CDE62'}),\n",
        "      ],style={'height':'10px'}),\n",
        "      html.Div([\n",
        "        html.Div([\n",
        "          dcc.Graph(id='map-graf',\n",
        "                    figure=fig2),\n",
        "        ],style={'background-color':'#9CDE62','display':'inline-block','height':'500px','width':'50%', 'padding': '0 20'}),\n",
        "        html.Div([\n",
        "          dcc.Graph(id='stream-graph',\n",
        "                    figure=fig3),\n",
        "        ],style={'background-color':'#9CDE62','display':'inline-block','height':'500px','width':'50%'}),\n",
        "      ]),\n",
        "    ]),\n",
        "\n",
        "        \n",
        "], style={'background-color':'#9CDE62'})"
      ],
      "metadata": {
        "id": "GQ6bTXuWscKG"
      },
      "execution_count": null,
      "outputs": []
    },
    {
      "cell_type": "code",
      "source": [
        "def create_fig(df, axis_type, title):\n",
        "  filtered_df = df[df[\"año\"] == 2017].sort_values('streams',ascending=False).head(n=10)\n",
        "  fig = px.bar(filtered_df, x=\"streams\", y=\"artist\",orientation='h')\n",
        "  fig.update_xaxes(type='linear' if axis_type == 'Linear' else 'log')\n",
        "  fig.update_layout(clickmode='event+select')\n",
        "  fig.update_layout(transition_duration=500)\n",
        "  return fig\n",
        "\n",
        "\n",
        "@app.callback(\n",
        "  Output('graph-rep','figure'),\n",
        "  [Input('slider-graph','value'),\n",
        "  Input('scale','value')])\n",
        "def update_figure(selected_year,xaxis_type):\n",
        "  filtered_df = df[df[\"año\"] == selected_year].sort_values('streams',ascending=False).head(n=10)\n",
        "\n",
        "  fig = px.bar(filtered_df, x=\"streams\", y=\"artist\",orientation='h')\n",
        "  fig.update_layout(autosize=False,\n",
        "              margin=dict(\n",
        "                  l=100,\n",
        "                  r=50,\n",
        "                  b=50,\n",
        "                  t=100,\n",
        "                  pad=4\n",
        "              ))\n",
        "  fig.update_xaxes(type='linear' if xaxis_type == 'Linear' else 'log')\n",
        "  fig.update_yaxes(automargin=True)\n",
        "  fig.update_layout(title={'text': 'Top 10 artistas más reproducidos en Spotify el año {}'.format(selected_year),\n",
        "                                            \n",
        "                          'y':0.9,\n",
        "                          'x':0.5,\n",
        "                           'xanchor': 'center',\n",
        "                           'yanchor': 'top',})\n",
        "  fig.update_layout(clickmode='event+select')\n",
        "  fig.update_layout(transition_duration=500)\n",
        "\n",
        "  return fig\n",
        "\n",
        "@app.callback(\n",
        "  Output('display_value','children'),\n",
        "  Input('graph-rep','clickData'))\n",
        "def display_map(clickData):\n",
        "  #return '{}'.format(clickData['points'][0]['y'],)\n",
        "  #return clickData\n",
        "  return clickData['points'][0]['y']\n",
        "\n",
        "@app.callback(\n",
        "  Output('map-graf','figure'),\n",
        "  [Input('slider-graph','value'),\n",
        "  Input('graph-rep','clickData')])\n",
        "def update_map(selected_year, selected_data):\n",
        "  filtered_df2 = df2[df2[\"año\"] == selected_year]\n",
        "  filtered_df2 = filtered_df2[filtered_df2[\"artist\"] == selected_data['points'][0]['y']]\n",
        "  filtered_df2 = filtered_df2[filtered_df2[\"region\"] != 'Global']\n",
        "\n",
        "  fig2 = px.scatter_geo(filtered_df2, locations=\"region\",size=\"streams\", \n",
        "                     color=\"streams\",color_continuous_scale=[\"red\", \"green\", \"blue\"],\n",
        "                     projection=\"natural earth\",\n",
        "                     title='Distribución de reproducciones de {} el año {}'.format(selected_data['points'][0]['y'] , selected_year))\n",
        "    \n",
        "  #fig2.title('Paises con más reproducciones de {} el año {}'.format(selected_data['points'][0]['y'],selected_year))\n",
        "  fig2.update_layout(transition_duration=500)\n",
        "  return fig2\n",
        "\n",
        "\"\"\"@app.callback(\n",
        "  Output('stream-graph','figure'),\n",
        "  Input('slider-graph','value'))\n",
        "def update_stream_map(selected_year):\n",
        "  filtered_df3=df2[df2['año'] == selected_year]\n",
        "  filtered_df3=filtered_df3.groupby(['region'])[[\"streams\"]].sum()\n",
        "  filtered_df3.reset_index(inplace=True)\n",
        "  filtered_df3=filtered_df3[filtered_df3['region']!='Global']\n",
        "\n",
        "  fig3 = px.scatter_geo(filtered_df3, locations=\"region\",size=\"streams\",   \n",
        "                     color=\"streams\",\n",
        "                     projection=\"natural earth\",\n",
        "                     title='Reproducciones totales en Spotify el año {}'.format(selected_year))\n",
        "  fig3.update_layout(transition_duration=500)\n",
        "  return fig3\"\"\"\n",
        "@app.callback(\n",
        "    Output('stream-graph','figure'),\n",
        "    Input('graph-rep','clickData'))\n",
        "def update_stream_map(data):\n",
        "  filtered_df3=df2[df2['artist'] == data['points'][0]['y']]\n",
        "  filtered_df3=filtered_df3.groupby(['año'])[['streams']].sum()\n",
        "  filtered_df3.reset_index(inplace=True)\n",
        "  fig3=px.scatter(filtered_df3,x=\"año\",y=\"streams\",color_continuous_scale=[\"red\", \"green\", \"blue\"],\n",
        "                  color='streams',\n",
        "                  title= 'Reproducciones totales de  {} a lo largo de los años'.format(data['points'][0]['y']))\n",
        "  \n",
        "  fig3.update_traces(marker=dict(size=25))\n",
        "  fig3.update_yaxes(type='log')\n",
        "  \n",
        "  fig3.update_layout(transition_duration=500)\n",
        "  return fig3\n",
        "\n",
        "if __name__ == '__main__':\n",
        "  app.run_server(debug=True)"
      ],
      "metadata": {
        "colab": {
          "base_uri": "https://localhost:8080/",
          "height": 52
        },
        "id": "zKMKCNXPLVPG",
        "outputId": "9804b60a-5780-47e6-d6bc-8f6e459ea4e7"
      },
      "execution_count": null,
      "outputs": [
        {
          "output_type": "stream",
          "name": "stdout",
          "text": [
            "Dash app running on:\n"
          ]
        },
        {
          "output_type": "display_data",
          "data": {
            "text/plain": [
              "<IPython.core.display.Javascript object>"
            ],
            "application/javascript": [
              "(async (port, path, text, element) => {\n",
              "    if (!google.colab.kernel.accessAllowed) {\n",
              "      return;\n",
              "    }\n",
              "    element.appendChild(document.createTextNode(''));\n",
              "    const url = await google.colab.kernel.proxyPort(port);\n",
              "    const anchor = document.createElement('a');\n",
              "    anchor.href = new URL(path, url).toString();\n",
              "    anchor.target = '_blank';\n",
              "    anchor.setAttribute('data-href', url + path);\n",
              "    anchor.textContent = text;\n",
              "    element.appendChild(anchor);\n",
              "  })(8050, \"/\", \"http://127.0.0.1:8050/\", window.element)"
            ]
          },
          "metadata": {}
        }
      ]
    }
  ]
}